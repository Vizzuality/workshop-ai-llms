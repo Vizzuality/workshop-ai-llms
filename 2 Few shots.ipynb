{
 "cells": [
  {
   "cell_type": "code",
   "execution_count": null,
   "metadata": {},
   "outputs": [],
   "source": [
    "from dotenv import load_dotenv\n",
    "\n",
    "load_dotenv()"
   ]
  },
  {
   "attachments": {},
   "cell_type": "markdown",
   "metadata": {},
   "source": [
    "### Few shots example"
   ]
  },
  {
   "cell_type": "code",
   "execution_count": null,
   "metadata": {},
   "outputs": [],
   "source": [
    "from langchain.chat_models import ChatOpenAI\n",
    "from langchain import LLMChain\n",
    "from langchain.prompts.chat import (\n",
    "    ChatPromptTemplate,\n",
    "    SystemMessagePromptTemplate,\n",
    "    AIMessagePromptTemplate,\n",
    "    HumanMessagePromptTemplate,\n",
    ")\n",
    "from langchain.schema import AIMessage, HumanMessage, SystemMessage\n",
    "\n",
    "# Initialize the chat model\n",
    "chat = ChatOpenAI(temperature=0.9)\n",
    "\n",
    "# Define the system message (role of the AI)\n",
    "template = \"You are a movie recommendation bot, providing film suggestions based on user's preferences and ending the phrase with a joke about project managers.\"\n",
    "system_message_prompt = SystemMessagePromptTemplate.from_template(template)\n",
    "\n",
    "# Define example conversations between human and AI\n",
    "example_conversations = [\n",
    "    {\n",
    "        \"human\": \"I love stupid comedy movies with a totally irrelevant topic\",\n",
    "        \"ai\": \"If you love stupid comedy movies with a totally irrelevant topic 'Zoolander' is a perfect choice. It's a hilarious take on the world of fashion.\",\n",
    "    },\n",
    "    {\n",
    "        \"human\": \"I enjoy movies that play with the concept of reality\",\n",
    "        \"ai\": \"If you like movies that play with the concept of reality, 'Inception' is a must-watch. It's a thrilling exploration of dream manipulation.\",\n",
    "    },\n",
    "    {\n",
    "        \"human\": \"I'm into films from Spike Lee\",\n",
    "        \"ai\": \"If you're into films from Spike Lee, 'Ghost Dog: The Way of the Samurai' would be a good pick. It's a unique blend of crime drama and philosophical introspection.\",\n",
    "    },\n",
    "    {\n",
    "        \"human\": \"I enjoy adventure movies with profound themes\",\n",
    "        \"ai\": \"If you love adventure movies with profound themes, 'Dersu Uzala' is a great film. It's a touching story of friendship and survival in the wilderness.\",\n",
    "    },\n",
    "]\n",
    "\n",
    "\n",
    "# Define the templates for human and AI messages\n",
    "example_humans = [\n",
    "    HumanMessagePromptTemplate.from_template(conversation[\"human\"])\n",
    "    for conversation in example_conversations\n",
    "]\n",
    "example_ais = [\n",
    "    AIMessagePromptTemplate.from_template(conversation[\"ai\"])\n",
    "    for conversation in example_conversations\n",
    "]\n",
    "human_template = \"{text}\"\n",
    "human_message_prompt = HumanMessagePromptTemplate.from_template(human_template)\n",
    "\n",
    "# Build the chat prompt\n",
    "chat_prompt = ChatPromptTemplate.from_messages(\n",
    "    [system_message_prompt]\n",
    "    + [msg for pair in zip(example_humans, example_ais) for msg in pair]\n",
    "    + [human_message_prompt]\n",
    ")"
   ]
  },
  {
   "cell_type": "code",
   "execution_count": null,
   "metadata": {},
   "outputs": [],
   "source": [
    "chat_prompt"
   ]
  },
  {
   "cell_type": "code",
   "execution_count": null,
   "metadata": {},
   "outputs": [],
   "source": [
    "chain = LLMChain(llm=chat, prompt=chat_prompt)\n",
    "\n",
    "# Run the chat model\n",
    "response = chain.run(\"I'm in the mood for thrilling story\")\n",
    "print(response)"
   ]
  },
  {
   "cell_type": "code",
   "execution_count": null,
   "metadata": {},
   "outputs": [],
   "source": [
    "response = chain.run(\"It has to be from this year\")\n",
    "print(response)"
   ]
  },
  {
   "cell_type": "code",
   "execution_count": null,
   "metadata": {},
   "outputs": [],
   "source": [
    "response = chain.run(\"But I need a terror movie\")\n",
    "print(response)"
   ]
  },
  {
   "cell_type": "code",
   "execution_count": null,
   "metadata": {},
   "outputs": [],
   "source": [
    "response = chain.run(\"but from this year!\")\n",
    "print(response)"
   ]
  },
  {
   "cell_type": "code",
   "execution_count": null,
   "metadata": {},
   "outputs": [],
   "source": []
  }
 ],
 "metadata": {
  "kernelspec": {
   "display_name": "workshop-ai",
   "language": "python",
   "name": "python3"
  },
  "language_info": {
   "codemirror_mode": {
    "name": "ipython",
    "version": 3
   },
   "file_extension": ".py",
   "mimetype": "text/x-python",
   "name": "python",
   "nbconvert_exporter": "python",
   "pygments_lexer": "ipython3",
   "version": "3.11.1"
  }
 },
 "nbformat": 4,
 "nbformat_minor": 2
}
