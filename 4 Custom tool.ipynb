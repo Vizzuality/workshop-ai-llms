{
 "cells": [
  {
   "cell_type": "code",
   "execution_count": null,
   "metadata": {},
   "outputs": [],
   "source": [
    "from dotenv import load_dotenv\n",
    "\n",
    "load_dotenv()"
   ]
  },
  {
   "cell_type": "code",
   "execution_count": null,
   "metadata": {},
   "outputs": [],
   "source": [
    "from langchain.agents import Tool\n",
    "from langchain.agents import AgentType\n",
    "from langchain.memory import ConversationSummaryMemory, ChatMessageHistory\n",
    "from langchain.chat_models import ChatOpenAI\n",
    "from langchain.utilities import SerpAPIWrapper\n",
    "from langchain.agents import initialize_agent"
   ]
  },
  {
   "cell_type": "code",
   "execution_count": null,
   "metadata": {},
   "outputs": [],
   "source": [
    "import operator\n",
    "from itertools import product, permutations\n",
    "from pydantic import BaseModel, Field\n",
    "from typing import List\n",
    "\n",
    "\n",
    "def mydiv(n, d):\n",
    "    return n / d if d != 0 else 9999999\n",
    "\n",
    "\n",
    "syms = [operator.add, operator.sub, operator.mul, mydiv]\n",
    "op = {sym: ch for sym, ch in zip(syms, \"+-*/\")}\n",
    "\n",
    "\n",
    "class Solve24Input(BaseModel):\n",
    "    question: List[int]\n",
    "\n",
    "\n",
    "def solve24(input_data: Solve24Input) -> str:\n",
    "    \"\"\"Solve the 4 numbers to sum 24 problem\"\"\"\n",
    "    print(f\"type: {type(input_data)}, value: {input_data}\")\n",
    "    input_model = Solve24Input(question=input_data)\n",
    "    nums = input_model.question\n",
    "    for x, y, z in product(syms, repeat=3):\n",
    "        for a, b, c, d in permutations(nums):\n",
    "            if round(x(y(a, b), z(c, d)), 5) == 24:\n",
    "                return f\"({a} {op[y]} {b}) {op[x]} ({c} {op[z]} {d})\"\n",
    "            elif round(x(a, y(b, z(c, d))), 5) == 24:\n",
    "                return f\"{a} {op[x]} ({b} {op[y]} ({c} {op[z]} {d}))\"\n",
    "            elif round(x(y(z(c, d), b), a), 5) == 24:\n",
    "                return f\"(({c} {op[z]} {d}) {op[y]} {b}) {op[x]} {a}\"\n",
    "            elif round(x(y(b, z(c, d)), a), 5) == 24:\n",
    "                return f\"({b} {op[y]} ({c} {op[z]} {d})) {op[x]} {a}\"\n",
    "    return \"No solution could be found.\""
   ]
  },
  {
   "cell_type": "code",
   "execution_count": null,
   "metadata": {},
   "outputs": [],
   "source": [
    "tools = [\n",
    "    Tool(\n",
    "        name=\"Solve_the_sum_24_math_game\",\n",
    "        func=solve24,\n",
    "        description=\"useful for when you to solve the make 24 problem using 4 numbers\",\n",
    "        args_schema=Solve24Input,\n",
    "    ),\n",
    "]"
   ]
  },
  {
   "cell_type": "code",
   "execution_count": null,
   "metadata": {},
   "outputs": [],
   "source": [
    "tools[0]"
   ]
  },
  {
   "cell_type": "code",
   "execution_count": null,
   "metadata": {},
   "outputs": [],
   "source": [
    "history = ChatMessageHistory()\n",
    "memory = ConversationSummaryMemory(\n",
    "    llm=ChatOpenAI(model_name=\"gpt-3.5-turbo-0613\", temperature=0),\n",
    "    chat_memory=history,\n",
    "    return_messages=True,\n",
    ")\n",
    "llm = ChatOpenAI(temperature=0)\n",
    "agent_chain = initialize_agent(\n",
    "    tools,\n",
    "    llm,\n",
    "    agent=AgentType.ZERO_SHOT_REACT_DESCRIPTION,\n",
    "    verbose=True,\n",
    "    memory=memory,\n",
    ")"
   ]
  },
  {
   "cell_type": "code",
   "execution_count": null,
   "metadata": {},
   "outputs": [],
   "source": [
    "agent_chain.run(\n",
    "    input=\"Given the numbers 3, 9, 5, 4 use all 4 numbers and + - × / to make 24\"\n",
    ")"
   ]
  },
  {
   "cell_type": "code",
   "execution_count": null,
   "metadata": {},
   "outputs": [],
   "source": [
    "history = ChatMessageHistory()\n",
    "history.add_user_message(\"hi\")\n",
    "history.add_ai_message(\"hi there!\")\n",
    "memory = ConversationSummaryMemory(\n",
    "    llm=ChatOpenAI(model_name=\"gpt-3.5-turbo-0613\", temperature=0),\n",
    "    chat_memory=history,\n",
    "    return_messages=True,\n",
    ")\n",
    "llm = ChatOpenAI(temperature=0)\n",
    "agent_chain = initialize_agent(\n",
    "    tools,\n",
    "    llm,\n",
    "    agent=AgentType.OPENAI_FUNCTIONS,\n",
    "    verbose=True,\n",
    "    memory=memory,\n",
    ")"
   ]
  },
  {
   "cell_type": "code",
   "execution_count": null,
   "metadata": {},
   "outputs": [],
   "source": [
    "agent_chain.run(\n",
    "    input=\"Given the numbers 3, 9, 5, 4 use all 4 numbers and + - × / to make 24\"\n",
    ")"
   ]
  }
 ],
 "metadata": {
  "kernelspec": {
   "display_name": "workshop-ai",
   "language": "python",
   "name": "python3"
  },
  "language_info": {
   "codemirror_mode": {
    "name": "ipython",
    "version": 3
   },
   "file_extension": ".py",
   "mimetype": "text/x-python",
   "name": "python",
   "nbconvert_exporter": "python",
   "pygments_lexer": "ipython3",
   "version": "3.11.1"
  }
 },
 "nbformat": 4,
 "nbformat_minor": 2
}
