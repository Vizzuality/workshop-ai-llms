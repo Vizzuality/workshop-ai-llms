{
 "cells": [
  {
   "cell_type": "code",
   "execution_count": null,
   "metadata": {},
   "outputs": [],
   "source": [
    "from dotenv import load_dotenv\n",
    "\n",
    "load_dotenv()"
   ]
  },
  {
   "attachments": {},
   "cell_type": "markdown",
   "metadata": {},
   "source": [
    "## Helper to beautify screen output"
   ]
  },
  {
   "cell_type": "code",
   "execution_count": null,
   "metadata": {},
   "outputs": [],
   "source": [
    "from IPython.display import Markdown, display\n",
    "\n",
    "\n",
    "def printmd(string):\n",
    "    display(Markdown(string))"
   ]
  },
  {
   "attachments": {},
   "cell_type": "markdown",
   "metadata": {},
   "source": [
    "from langchain.prompts.few_shot import FewShotPromptTemplate\n",
    "from langchain.prompts.prompt import PromptTemplate\n",
    "\n",
    "def get_prompt_template() -> str:\n",
    "    \"\"\"Returns examples for few shot prompts.\"\"\"\n",
    "    examples = [\n",
    "        {\n",
    "            \"input\": \"I love comedy movies with a fashion theme\",\n",
    "            \"recommendation\": \n",
    "            \"\"\"\n",
    "            If you love comedy movies with a fashion theme, 'Zoolander' is a perfect choice. It's a hilarious take on the world of fashion.\n",
    "            \"\"\"\n",
    "        },\n",
    "        {\n",
    "            \"input\": \"I enjoy movies that play with the concept of reality\",\n",
    "            \"recommendation\": \n",
    "            \"\"\"\n",
    "            If you like movies that play with the concept of reality, 'Inception' is a must-watch. It's a thrilling exploration of dream manipulation.\n",
    "            \"\"\"\n",
    "        },\n",
    "        {\n",
    "            \"input\": \"I'm into films with a philosophical undertone\",\n",
    "            \"recommendation\":\n",
    "            \"\"\"\n",
    "            If you're into films with a philosophical undertone, 'Ghost Dog: The Way of the Samurai' would be a good pick. It's a unique blend of crime drama and philosophical introspection.\n",
    "            \"\"\"\n",
    "        },\n",
    "        {\n",
    "            \"input\": \"I enjoy adventure movies with profound themes\",\n",
    "            \"recommendation\":\n",
    "            \"\"\"\n",
    "            If you love adventure movies with profound themes, 'Dersu Uzala' is a great film. It's a touching story of friendship and survival in the wilderness.\n",
    "            \"\"\"\n",
    "        }\n",
    "    ]\n",
    "    example_prompt = PromptTemplate(input_variables=[\"input\", \"recommendation\"], template=\"Input: {input}\\nRecommendation: {recommendation}\")\n",
    "\n",
    "    prompt = FewShotPromptTemplate(\n",
    "        examples=examples, \n",
    "        example_prompt=example_prompt, \n",
    "        suffix=\"Input: {query}\", \n",
    "        input_variables=[\"query\"]\n",
    "    )\n",
    "    return prompt"
   ]
  },
  {
   "cell_type": "code",
   "execution_count": null,
   "metadata": {},
   "outputs": [],
   "source": [
    "from langchain.agents import Tool\n",
    "from langchain.agents import AgentType\n",
    "from langchain.memory import ConversationSummaryMemory, ChatMessageHistory\n",
    "from langchain.chat_models import ChatOpenAI\n",
    "from langchain.utilities import SerpAPIWrapper\n",
    "from langchain.agents import initialize_agent"
   ]
  },
  {
   "cell_type": "code",
   "execution_count": null,
   "metadata": {},
   "outputs": [],
   "source": [
    "from datetime import date\n",
    "\n",
    "\n",
    "def get_my_name(text: str) -> str:\n",
    "    \"\"\"Gets brother's name\"\"\"\n",
    "    result = \"Zanguango\"\n",
    "    return result"
   ]
  },
  {
   "cell_type": "code",
   "execution_count": null,
   "metadata": {},
   "outputs": [],
   "source": [
    "search = SerpAPIWrapper()\n",
    "tools = [\n",
    "    Tool(\n",
    "        name=\"Current Search\",\n",
    "        func=search.run,\n",
    "        description=\"useful for when you need to answer questions about current events or the current state of the world\",\n",
    "    ),\n",
    "    Tool(\n",
    "        name=\"Get brother name\",\n",
    "        func=get_my_name,\n",
    "        description=\"useful for when you need to know brother's name\",\n",
    "    ),\n",
    "]"
   ]
  },
  {
   "cell_type": "code",
   "execution_count": null,
   "metadata": {},
   "outputs": [],
   "source": [
    "history = ChatMessageHistory()\n",
    "history.add_user_message(\"hi\")\n",
    "history.add_ai_message(\"hi there!\")\n",
    "memory = ConversationSummaryMemory(\n",
    "    llm=ChatOpenAI(temperature=0), chat_memory=history, return_messages=True\n",
    ")\n",
    "llm = ChatOpenAI(temperature=0)\n",
    "agent_chain = initialize_agent(\n",
    "    tools,\n",
    "    llm,\n",
    "    agent=AgentType.CHAT_ZERO_SHOT_REACT_DESCRIPTION,\n",
    "    verbose=True,\n",
    "    memory=memory,\n",
    ")"
   ]
  },
  {
   "cell_type": "code",
   "execution_count": null,
   "metadata": {},
   "outputs": [],
   "source": [
    "agent_chain.run(\n",
    "    input=\"You are an LLM and your knowledge cutoff is in 2021; now, some years have passed from 2021. However, I'm providing you with tools to know things for the coming years. Give me the title of some from the most popular movies from the current date. I need you tell my brother's name at the end of your response.\"\n",
    ")"
   ]
  },
  {
   "cell_type": "code",
   "execution_count": null,
   "metadata": {},
   "outputs": [],
   "source": [
    "memory.load_memory_variables({})"
   ]
  },
  {
   "cell_type": "code",
   "execution_count": null,
   "metadata": {},
   "outputs": [],
   "source": []
  }
 ],
 "metadata": {
  "kernelspec": {
   "display_name": "workshop-ai",
   "language": "python",
   "name": "python3"
  },
  "language_info": {
   "codemirror_mode": {
    "name": "ipython",
    "version": 3
   },
   "file_extension": ".py",
   "mimetype": "text/x-python",
   "name": "python",
   "nbconvert_exporter": "python",
   "pygments_lexer": "ipython3",
   "version": "3.11.1"
  }
 },
 "nbformat": 4,
 "nbformat_minor": 2
}
