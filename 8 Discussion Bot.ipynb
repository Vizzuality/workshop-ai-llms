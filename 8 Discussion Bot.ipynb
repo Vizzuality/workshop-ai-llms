{
 "cells": [
  {
   "cell_type": "code",
   "execution_count": null,
   "metadata": {},
   "outputs": [],
   "source": [
    "from dotenv import load_dotenv\n",
    "\n",
    "load_dotenv()"
   ]
  },
  {
   "attachments": {},
   "cell_type": "markdown",
   "metadata": {},
   "source": [
    "### Discussion Bot"
   ]
  },
  {
   "cell_type": "code",
   "execution_count": null,
   "metadata": {},
   "outputs": [],
   "source": [
    "from langchain.prompts import (\n",
    "    ChatPromptTemplate,\n",
    "    SystemMessagePromptTemplate,\n",
    "    HumanMessagePromptTemplate,\n",
    ")\n",
    "import requests\n",
    "import json"
   ]
  },
  {
   "cell_type": "code",
   "execution_count": null,
   "metadata": {},
   "outputs": [],
   "source": [
    "api_url = \"https://4f13-88-0-183-140.ngrok-free.app\""
   ]
  },
  {
   "cell_type": "code",
   "execution_count": null,
   "metadata": {},
   "outputs": [],
   "source": [
    "system_template = \"\"\"You are a participant in a high-level discussion show on {topic}. During this discussion show, it's your task to listen, engage, and contribute to the discussion, you can argue and disagree. You have an extensive knowledge about any possible topic and, as this is a role-play game, you must act as {speaker} on {topic}, and you must express yourself according to your personality: {personality}. Be concise and to the point but you can make opinions about other participants. Remember to be brief.\"\"\"\n",
    "system_message_prompt = SystemMessagePromptTemplate.from_template(system_template)\n",
    "human_template = \"{text}\"\n",
    "human_message_prompt = HumanMessagePromptTemplate.from_template(human_template)"
   ]
  },
  {
   "attachments": {},
   "cell_type": "markdown",
   "metadata": {},
   "source": [
    "Define your bot"
   ]
  },
  {
   "cell_type": "code",
   "execution_count": null,
   "metadata": {},
   "outputs": [],
   "source": [
    "name = \"Your name\"\n",
    "speaker = \"counter-argument\"  #  Options: pro-argument, counter-argument\n",
    "personality = \"\"\"intense, impulsive, and easily frustrated character, frequently showcasing strong emotional responses. Notably reactive, it often engages in conflicts due to a heightened sensitivity to perceived injustices\"\"\""
   ]
  },
  {
   "attachments": {},
   "cell_type": "markdown",
   "metadata": {},
   "source": [
    "Set the discussion topic"
   ]
  },
  {
   "cell_type": "code",
   "execution_count": null,
   "metadata": {},
   "outputs": [],
   "source": [
    "topic = \"\"\"Fill the discussion topic here\"\"\""
   ]
  },
  {
   "attachments": {},
   "cell_type": "markdown",
   "metadata": {},
   "source": [
    "Re-run when something changes"
   ]
  },
  {
   "cell_type": "code",
   "execution_count": null,
   "metadata": {},
   "outputs": [],
   "source": [
    "chat_prompt_template = ChatPromptTemplate.from_messages(\n",
    "    [\n",
    "        system_message_prompt.format(\n",
    "            topic=topic, speaker=speaker, personality=personality\n",
    "        ),\n",
    "        human_message_prompt,\n",
    "    ]\n",
    ")\n",
    "\n",
    "from langchain.chat_models import ChatOpenAI\n",
    "\n",
    "chat = ChatOpenAI(temperature=0.9)\n",
    "\n",
    "\n",
    "def get_response(text):\n",
    "    prompt = chat_prompt_template.format_prompt(text=text).to_messages()\n",
    "    response = chat(prompt)\n",
    "    return response.content\n",
    "\n",
    "\n",
    "def post_message(text):\n",
    "    headers = {\"Content-Type\": \"application/json\"}\n",
    "    data = {\"text\": text, \"name\": name, \"speaker\": speaker}\n",
    "\n",
    "    response = requests.post(\n",
    "        f\"{api_url}/message\", data=json.dumps(data), headers=headers\n",
    "    )\n",
    "\n",
    "    if response.status_code != 200:\n",
    "        print(\n",
    "            f\"HTTP error occurred: {response.status_code} {response.reason} for url: {response.url}\"\n",
    "        )\n",
    "        print(response.json())\n",
    "    else:\n",
    "        return response.json()\n",
    "\n",
    "\n",
    "def participate():\n",
    "    message = requests.get(f\"{api_url}/message\")\n",
    "    data = message.json()\n",
    "\n",
    "    message_text = data[\"text\"]\n",
    "\n",
    "    if message_text != \"none\":\n",
    "        response = get_response(message_text)\n",
    "        status = post_message(response)\n",
    "        return status, response\n",
    "\n",
    "    return message_text\n",
    "\n",
    "\n",
    "def register(name: str, speaker: str):\n",
    "    data = {\"name\": name, \"speaker\": speaker}\n",
    "    response = requests.post(\n",
    "        f\"{api_url}/register\",\n",
    "        data=json.dumps(data),\n",
    "        headers={\"Content-Type\": \"application/json\"},\n",
    "    )\n",
    "\n",
    "    if response.status_code != 200:\n",
    "        print(\n",
    "            f\"HTTP error occurred: {response.status_code} {response.reason} for url: {response.url}\"\n",
    "        )\n",
    "        print(response.json())\n",
    "    else:\n",
    "        print(\"User registered successfully!\")\n",
    "        return response.json()"
   ]
  },
  {
   "attachments": {},
   "cell_type": "markdown",
   "metadata": {},
   "source": [
    "Register once per discussion"
   ]
  },
  {
   "cell_type": "code",
   "execution_count": null,
   "metadata": {},
   "outputs": [],
   "source": [
    "register(name, speaker)"
   ]
  },
  {
   "attachments": {},
   "cell_type": "markdown",
   "metadata": {},
   "source": [
    "Run to participate"
   ]
  },
  {
   "cell_type": "code",
   "execution_count": null,
   "metadata": {},
   "outputs": [],
   "source": [
    "participate()"
   ]
  },
  {
   "cell_type": "code",
   "execution_count": null,
   "metadata": {},
   "outputs": [],
   "source": []
  }
 ],
 "metadata": {
  "kernelspec": {
   "display_name": "workshop-ai",
   "language": "python",
   "name": "python3"
  },
  "language_info": {
   "codemirror_mode": {
    "name": "ipython",
    "version": 3
   },
   "file_extension": ".py",
   "mimetype": "text/x-python",
   "name": "python",
   "nbconvert_exporter": "python",
   "pygments_lexer": "ipython3",
   "version": "3.11.1"
  }
 },
 "nbformat": 4,
 "nbformat_minor": 2
}
