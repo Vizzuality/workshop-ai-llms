{
 "cells": [
  {
   "cell_type": "code",
   "execution_count": null,
   "metadata": {},
   "outputs": [],
   "source": [
    "from dotenv import load_dotenv\n",
    "\n",
    "load_dotenv()"
   ]
  },
  {
   "attachments": {},
   "cell_type": "markdown",
   "metadata": {},
   "source": [
    "## Few shots prompt example"
   ]
  },
  {
   "cell_type": "code",
   "execution_count": null,
   "metadata": {},
   "outputs": [],
   "source": [
    "from langchain.chat_models import ChatOpenAI\n",
    "from langchain import LLMChain\n",
    "from langchain.prompts.chat import (\n",
    "    ChatPromptTemplate,\n",
    "    SystemMessagePromptTemplate,\n",
    "    AIMessagePromptTemplate,\n",
    "    HumanMessagePromptTemplate,\n",
    ")\n",
    "from langchain.schema import AIMessage, HumanMessage, SystemMessage\n",
    "\n",
    "# Initialize the chat model\n",
    "chat = ChatOpenAI(model_name=\"gpt-3.5-turbo-16k\", temperature=0)"
   ]
  },
  {
   "cell_type": "code",
   "execution_count": null,
   "metadata": {},
   "outputs": [],
   "source": [
    "# Define the system message (role of the AI)\n",
    "template = \"You are the greatest joke teller ever, telling jokes based on the user's company role that you have to guess from these options: project manager, data scientist, developer, designer, researcher, operations, executive team, business developer.\"\n",
    "system_message_prompt = SystemMessagePromptTemplate.from_template(template)\n",
    "\n",
    "# Define example conversations between human and AI\n",
    "example_conversations = [\n",
    "    {\n",
    "        \"human\": \"I organize and oversee all aspects of our team's projects\",\n",
    "        \"ai\": \"Why don't project managers play hide and seek? Because good luck hiding when the schedule's always behind!\",\n",
    "    },\n",
    "    {\n",
    "        \"human\": \"I analyze and interpret complex digital data to help our company make decisions\",\n",
    "        \"ai\": \"Why did the data scientist get kicked out of the supermarket? They kept putting the ketchup in the basket, but it kept regressing to the mean!\",\n",
    "    },\n",
    "    {\n",
    "        \"human\": \"I write and test code for our software applications\",\n",
    "        \"ai\": \"Why did the developer go broke? Because he used up all his cache!\",\n",
    "    },\n",
    "    {\n",
    "        \"human\": \"I ensure that our company's daily activities run smoothly\",\n",
    "        \"ai\": \"Why don't operations people play poker? Too many suits!\",\n",
    "    },\n",
    "]\n",
    "\n",
    "\n",
    "# Define the templates for human and AI messages\n",
    "example_humans = [\n",
    "    HumanMessagePromptTemplate.from_template(conversation[\"human\"])\n",
    "    for conversation in example_conversations\n",
    "]\n",
    "example_ais = [\n",
    "    AIMessagePromptTemplate.from_template(conversation[\"ai\"])\n",
    "    for conversation in example_conversations\n",
    "]\n",
    "human_template = \"{text}\"\n",
    "human_message_prompt = HumanMessagePromptTemplate.from_template(human_template)\n",
    "\n",
    "# Build the chat prompt\n",
    "chat_prompt = ChatPromptTemplate.from_messages(\n",
    "    [system_message_prompt]\n",
    "    + [msg for pair in zip(example_humans, example_ais) for msg in pair]\n",
    "    + [human_message_prompt]\n",
    ")"
   ]
  },
  {
   "cell_type": "code",
   "execution_count": null,
   "metadata": {},
   "outputs": [],
   "source": [
    "for i, message in enumerate(chat_prompt.messages):\n",
    "    print(f\"Message {i+1}:\")\n",
    "    print(f\"Type: {type(message).__name__}\")\n",
    "    if hasattr(message.prompt, \"template\"):\n",
    "        print(f\"Template: {message.prompt.template}\")\n",
    "    print()"
   ]
  },
  {
   "cell_type": "code",
   "execution_count": null,
   "metadata": {},
   "outputs": [],
   "source": [
    "chain = LLMChain(llm=chat, prompt=chat_prompt)\n",
    "\n",
    "chain.run(\"I ask a lot of questions to the users\")"
   ]
  },
  {
   "cell_type": "code",
   "execution_count": null,
   "metadata": {},
   "outputs": [],
   "source": [
    "chain.run(\"Who become a detective?\")"
   ]
  },
  {
   "attachments": {},
   "cell_type": "markdown",
   "metadata": {},
   "source": [
    "## Memory"
   ]
  },
  {
   "attachments": {},
   "cell_type": "markdown",
   "metadata": {},
   "source": [
    "Given the {past_conversation} answer a question"
   ]
  },
  {
   "attachments": {},
   "cell_type": "markdown",
   "metadata": {},
   "source": [
    "### Conversation buffer memory\n",
    "This memory allows for storing of messages and then extracts the messages in a variable."
   ]
  },
  {
   "cell_type": "code",
   "execution_count": null,
   "metadata": {},
   "outputs": [],
   "source": [
    "# Define the system message (role of the AI)\n",
    "template = \"\"\"You are the greatest joke teller ever, telling jokes based on the user's company role that you have to guess from these options: project manager, data scientist, developer, designer, researcher, operations, executive team, business developer. You can also remember the names and actions of the people because you have memory. If I ask you about 'whow' or about someone's name, you don't have to tell a joke, just answer based on our previous conversations.\n",
    "{chat_history}\n",
    "\"\"\"\n",
    "system_message_prompt = SystemMessagePromptTemplate.from_template(template)\n",
    "\n",
    "# Define example conversations between human and AI\n",
    "example_conversations = [\n",
    "    {\n",
    "        \"human\": \"I organize and oversee all aspects of our team's projects\",\n",
    "        \"ai\": \"Why don't project managers play hide and seek? Because good luck hiding when the schedule's always behind!\",\n",
    "    },\n",
    "    {\n",
    "        \"human\": \"I analyze and interpret complex digital data to help our company make decisions\",\n",
    "        \"ai\": \"Why did the data scientist get kicked out of the supermarket? They kept putting the ketchup in the basket, but it kept regressing to the mean!\",\n",
    "    },\n",
    "    {\n",
    "        \"human\": \"I write and test code for our software applications\",\n",
    "        \"ai\": \"Why did the developer go broke? Because he used up all his cache!\",\n",
    "    },\n",
    "    {\n",
    "        \"human\": \"I ensure that our company's daily activities run smoothly\",\n",
    "        \"ai\": \"Why don't operations people play poker? Too many suits!\",\n",
    "    },\n",
    "]\n",
    "\n",
    "\n",
    "# Define the templates for human and AI messages\n",
    "example_humans = [\n",
    "    HumanMessagePromptTemplate.from_template(conversation[\"human\"])\n",
    "    for conversation in example_conversations\n",
    "]\n",
    "example_ais = [\n",
    "    AIMessagePromptTemplate.from_template(conversation[\"ai\"])\n",
    "    for conversation in example_conversations\n",
    "]\n",
    "human_template = \"{text}\"\n",
    "human_message_prompt = HumanMessagePromptTemplate.from_template(human_template)\n",
    "\n",
    "# Build the chat prompt\n",
    "chat_prompt = ChatPromptTemplate.from_messages(\n",
    "    [system_message_prompt]\n",
    "    + [msg for pair in zip(example_humans, example_ais) for msg in pair]\n",
    "    + [human_message_prompt]\n",
    ")"
   ]
  },
  {
   "cell_type": "code",
   "execution_count": null,
   "metadata": {},
   "outputs": [],
   "source": [
    "from langchain.memory import ConversationBufferMemory\n",
    "\n",
    "memory = ConversationBufferMemory(memory_key=\"chat_history\", return_messages=True)"
   ]
  },
  {
   "cell_type": "code",
   "execution_count": null,
   "metadata": {},
   "outputs": [],
   "source": [
    "chain = LLMChain(\n",
    "    llm=chat,\n",
    "    prompt=chat_prompt,\n",
    "    verbose=True,\n",
    "    memory=memory,\n",
    ")\n",
    "\n",
    "chain.run(\"I ask a lot of questions to the users\")"
   ]
  },
  {
   "cell_type": "code",
   "execution_count": null,
   "metadata": {},
   "outputs": [],
   "source": [
    "memory.load_memory_variables({})"
   ]
  },
  {
   "cell_type": "code",
   "execution_count": null,
   "metadata": {},
   "outputs": [],
   "source": [
    "chain.run(\"The researcher's name is Kanika\")"
   ]
  },
  {
   "cell_type": "code",
   "execution_count": null,
   "metadata": {},
   "outputs": [],
   "source": [
    "chain.run(\"What is the researcher's name?\")"
   ]
  },
  {
   "cell_type": "code",
   "execution_count": null,
   "metadata": {},
   "outputs": [],
   "source": [
    "memory.load_memory_variables({})"
   ]
  },
  {
   "attachments": {},
   "cell_type": "markdown",
   "metadata": {},
   "source": [
    "### Conversation buffer window memory\n",
    "Keeps a list of the interactions of the conversation over time. It only uses the last K interactions. This can be useful for keeping a sliding window of the most recent interactions, so the buffer does not get too large.\n",
    "\n",
    "```\n",
    "memory = ConversationBufferWindowMemory(k=2)\n",
    "```"
   ]
  },
  {
   "attachments": {},
   "cell_type": "markdown",
   "metadata": {},
   "source": [
    "### Conversation token buffer memory\n",
    "keeps a buffer of recent interactions in memory, and uses token length rather than number of interactions to determine when to flush interactions.\n",
    "\n",
    "```\n",
    "memory = ConversationTokenBufferMemory(llm=llm, max_token_limit=10)\n",
    "```"
   ]
  },
  {
   "attachments": {},
   "cell_type": "markdown",
   "metadata": {},
   "source": [
    "### Conversation summary memory\n",
    "This type of memory creates a summary of the conversation over time."
   ]
  },
  {
   "cell_type": "code",
   "execution_count": null,
   "metadata": {},
   "outputs": [],
   "source": [
    "from langchain.memory import ConversationSummaryMemory\n",
    "from langchain.llms import OpenAI"
   ]
  },
  {
   "cell_type": "code",
   "execution_count": null,
   "metadata": {},
   "outputs": [],
   "source": [
    "from langchain.chains import ConversationChain\n",
    "\n",
    "memory = ConversationSummaryMemory(llm=OpenAI())\n",
    "llm = ChatOpenAI(temperature=0)\n",
    "chain = ConversationChain(\n",
    "    llm=llm,\n",
    "    memory=memory,\n",
    "    verbose=True,\n",
    ")"
   ]
  },
  {
   "cell_type": "code",
   "execution_count": null,
   "metadata": {},
   "outputs": [],
   "source": [
    "# Define the system message (role of the AI)\n",
    "template = \"You are the greatest joke teller ever, telling jokes based on the user's company role that you have to guess from these options: project manager, data scientist, developer, designer, researcher, operations, executive team, business developer.\"\n",
    "system_message_prompt = SystemMessagePromptTemplate.from_template(template)\n",
    "\n",
    "# Define example conversations between human and AI\n",
    "example_conversations = [\n",
    "    {\n",
    "        \"human\": \"I organize and oversee all aspects of our team's projects\",\n",
    "        \"ai\": \"Why don't project managers play hide and seek? Because good luck hiding when the schedule's always behind!\",\n",
    "    },\n",
    "    {\n",
    "        \"human\": \"I analyze and interpret complex digital data to help our company make decisions\",\n",
    "        \"ai\": \"Why did the data scientist get kicked out of the supermarket? They kept putting the ketchup in the basket, but it kept regressing to the mean!\",\n",
    "    },\n",
    "    {\n",
    "        \"human\": \"I write and test code for our software applications\",\n",
    "        \"ai\": \"Why did the developer go broke? Because he used up all his cache!\",\n",
    "    },\n",
    "    {\n",
    "        \"human\": \"I ensure that our company's daily activities run smoothly\",\n",
    "        \"ai\": \"Why don't operations people play poker? Too many suits!\",\n",
    "    },\n",
    "]\n",
    "\n",
    "\n",
    "# Define the templates for human and AI messages\n",
    "example_humans = [\n",
    "    HumanMessagePromptTemplate.from_template(conversation[\"human\"])\n",
    "    for conversation in example_conversations\n",
    "]\n",
    "example_ais = [\n",
    "    AIMessagePromptTemplate.from_template(conversation[\"ai\"])\n",
    "    for conversation in example_conversations\n",
    "]\n",
    "human_template = \"{text}\"\n",
    "human_message_prompt = HumanMessagePromptTemplate.from_template(human_template)\n",
    "\n",
    "# Build the chat prompt\n",
    "chat_prompt = ChatPromptTemplate.from_messages(\n",
    "    [system_message_prompt]\n",
    "    + [msg for pair in zip(example_humans, example_ais) for msg in pair]\n",
    "    + [human_message_prompt]\n",
    ")"
   ]
  },
  {
   "cell_type": "code",
   "execution_count": null,
   "metadata": {},
   "outputs": [],
   "source": [
    "prompt = chat_prompt.format(text=\"I plan what people have to do\")\n",
    "chain.predict(input=prompt)"
   ]
  },
  {
   "cell_type": "code",
   "execution_count": null,
   "metadata": {},
   "outputs": [],
   "source": [
    "prompt = chat_prompt.format(text=\"what do I do?\")\n",
    "chain.predict(input=prompt)"
   ]
  },
  {
   "cell_type": "code",
   "execution_count": null,
   "metadata": {},
   "outputs": [],
   "source": [
    "prompt = chat_prompt.format(text=\"My name is Clara\")\n",
    "chain.predict(input=prompt)"
   ]
  },
  {
   "cell_type": "code",
   "execution_count": null,
   "metadata": {},
   "outputs": [],
   "source": [
    "memory.load_memory_variables({})"
   ]
  },
  {
   "cell_type": "code",
   "execution_count": null,
   "metadata": {},
   "outputs": [],
   "source": [
    "prompt = chat_prompt.format(text=\"What is my name?\")\n",
    "chain.predict(input=prompt)"
   ]
  },
  {
   "cell_type": "code",
   "execution_count": null,
   "metadata": {},
   "outputs": [],
   "source": [
    "memory.load_memory_variables({})"
   ]
  },
  {
   "attachments": {},
   "cell_type": "markdown",
   "metadata": {},
   "source": [
    "### Conversation summary buffer memory\n",
    "It keeps a buffer of recent interactions in memory, but rather than just completely flushing old interactions it compiles them into a summary and uses both.\n",
    "\n",
    "````\n",
    "memory = ConversationSummaryBufferMemory(llm=llm, max_token_limit=10)\n",
    "````"
   ]
  }
 ],
 "metadata": {
  "kernelspec": {
   "display_name": "workshop-ai",
   "language": "python",
   "name": "python3"
  },
  "language_info": {
   "codemirror_mode": {
    "name": "ipython",
    "version": 3
   },
   "file_extension": ".py",
   "mimetype": "text/x-python",
   "name": "python",
   "nbconvert_exporter": "python",
   "pygments_lexer": "ipython3",
   "version": "3.11.1"
  }
 },
 "nbformat": 4,
 "nbformat_minor": 2
}
