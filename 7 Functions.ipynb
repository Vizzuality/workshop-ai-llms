{
 "cells": [
  {
   "cell_type": "code",
   "execution_count": null,
   "metadata": {},
   "outputs": [],
   "source": [
    "from dotenv import load_dotenv\n",
    "\n",
    "load_dotenv()"
   ]
  },
  {
   "attachments": {},
   "cell_type": "markdown",
   "metadata": {},
   "source": [
    "## OpenAI functions using Langchain"
   ]
  },
  {
   "attachments": {},
   "cell_type": "markdown",
   "metadata": {},
   "source": [
    "### Tagging (clasification)"
   ]
  },
  {
   "cell_type": "code",
   "execution_count": null,
   "metadata": {},
   "outputs": [],
   "source": [
    "from langchain.chat_models import ChatOpenAI\n",
    "from langchain.chains import create_tagging_chain, create_tagging_chain_pydantic\n",
    "from langchain.prompts import ChatPromptTemplate\n",
    "from enum import Enum\n",
    "from pydantic import BaseModel, Field"
   ]
  },
  {
   "cell_type": "code",
   "execution_count": null,
   "metadata": {},
   "outputs": [],
   "source": [
    "llm = ChatOpenAI(temperature=0, model=\"gpt-3.5-turbo-0613\")"
   ]
  },
  {
   "attachments": {},
   "cell_type": "markdown",
   "metadata": {},
   "source": [
    "Fictional Scenario: A new tax reform proposal is being considered at the national level, which would impose a yearly \"wealth tax\" on individuals and families with a net worth exceeding a certain threshold. The tax would take a percentage of these individuals' total wealth each year, above and beyond the income tax they already pay. The proposed goal of this reform is to reduce wealth inequality and generate additional government revenue, which would be directed towards public services like education and healthcare."
   ]
  },
  {
   "attachments": {},
   "cell_type": "markdown",
   "metadata": {},
   "source": [
    "Posts from Twitter:"
   ]
  },
  {
   "cell_type": "code",
   "execution_count": null,
   "metadata": {},
   "outputs": [],
   "source": [
    "posts = [\n",
    "    \"User: @FreedomEagle, Followers: 130000, Likes: 8500, Shares: 2000. This new wealth tax proposal is a direct attack on the successful individuals who drive our economy. While reducing inequality is a noble goal, punishing success and hard work isn't the answer. Such measures discourage investment and slow down economic growth. We need policies that encourage wealth creation, not penalize it. As a proud conservative, I advocate for less taxation and more freedom. #NoWealthTax #EconomicFreedom\",\n",
    "    \"User: @SocialJusticeNow, Followers: 225000, Likes: 16000, Shares: 4500. The proposed wealth tax is a step in the right direction. It's time we address the staggering wealth inequality in our nation. Asking the ultra-wealthy to contribute a small fraction of their fortune each year isn't punishment—it's their fair share. The revenue can help fund crucial public services and create more opportunities for all. As a proud progressive, I stand with this proposal. #WealthTax #FairShare\",\n",
    "    \"User: @TheBalancedView, Followers: 150000, Likes: 12000, Shares: 3000. The wealth tax proposal brings up an important debate. On one hand, we need to address wealth inequality and fund public services. On the other hand, we must also consider the potential discouragement of investment and economic growth. Striking a balance between these concerns is key. Perhaps a compromise could be found in implementing the tax with certain protections for investments in job creation. Proud to seek the middle ground. #WealthTaxDebate #BalancedApproach\",\n",
    "]"
   ]
  },
  {
   "cell_type": "code",
   "execution_count": null,
   "metadata": {},
   "outputs": [],
   "source": [
    "schema = {\n",
    "    \"properties\": {\n",
    "        \"political_party\": {\n",
    "            \"type\": \"string\",\n",
    "            \"enum\": [\"democrats\", \"republicans\", \"independents\", \"others\", \"unknown\"],\n",
    "        },\n",
    "        \"sentiment\": {\"type\": \"string\", \"enum\": [\"positive\", \"neutral\", \"negative\"]},\n",
    "        \"followers\": {\"type\": \"integer\"},\n",
    "        \"user_political_orientation\": {\n",
    "            \"type\": \"string\",\n",
    "            \"enum\": [\"left\", \"center\", \"right\", \"unknown\"],\n",
    "        },\n",
    "        \"likes\": {\"type\": \"integer\"},\n",
    "        \"shares\": {\"type\": \"integer\"},\n",
    "    },\n",
    "    \"required\": [\n",
    "        \"political_party\",\n",
    "        \"sentiment\",\n",
    "        \"followers\",\n",
    "        \"user_political_orientation\",\n",
    "        \"likes\",\n",
    "        \"shares\",\n",
    "    ],\n",
    "}"
   ]
  },
  {
   "cell_type": "code",
   "execution_count": null,
   "metadata": {},
   "outputs": [],
   "source": [
    "chain = create_tagging_chain(schema, llm)"
   ]
  },
  {
   "cell_type": "code",
   "execution_count": null,
   "metadata": {},
   "outputs": [],
   "source": [
    "chain.prompt.messages[0]"
   ]
  },
  {
   "cell_type": "code",
   "execution_count": null,
   "metadata": {},
   "outputs": [],
   "source": [
    "chain.run(posts[0])"
   ]
  },
  {
   "cell_type": "code",
   "execution_count": null,
   "metadata": {},
   "outputs": [],
   "source": [
    "import pandas as pd\n",
    "\n",
    "results = []\n",
    "for post in posts:\n",
    "    result = chain.run(post)\n",
    "    results.append(result)\n",
    "\n",
    "df = pd.DataFrame(results)\n",
    "df"
   ]
  },
  {
   "cell_type": "code",
   "execution_count": null,
   "metadata": {},
   "outputs": [],
   "source": [
    "class Tags(BaseModel):\n",
    "    political_party: str = Field(\n",
    "        ..., enum=[\"democrats\", \"republicans\", \"independents\", \"others\", \"unknown\"]\n",
    "    )\n",
    "    sentiment: str = Field(..., enum=[\"positive\", \"neutral\", \"negative\"])\n",
    "    followers: int = Field(...)\n",
    "    user_political_orientation: str = Field(\n",
    "        ..., enum=[\"left\", \"center\", \"right\", \"unknown\"]\n",
    "    )\n",
    "    likes: int = Field(...)\n",
    "    shares: int = Field(...)"
   ]
  },
  {
   "cell_type": "code",
   "execution_count": null,
   "metadata": {},
   "outputs": [],
   "source": [
    "pydantic_chain = create_tagging_chain_pydantic(Tags, llm)"
   ]
  },
  {
   "cell_type": "code",
   "execution_count": null,
   "metadata": {},
   "outputs": [],
   "source": [
    "pydantic_chain.llm_kwargs"
   ]
  },
  {
   "cell_type": "code",
   "execution_count": null,
   "metadata": {},
   "outputs": [],
   "source": [
    "tags = pydantic_chain.run(posts[0])"
   ]
  },
  {
   "cell_type": "code",
   "execution_count": null,
   "metadata": {},
   "outputs": [],
   "source": [
    "tags"
   ]
  },
  {
   "cell_type": "code",
   "execution_count": null,
   "metadata": {},
   "outputs": [],
   "source": [
    "tags.sentiment"
   ]
  },
  {
   "attachments": {},
   "cell_type": "markdown",
   "metadata": {},
   "source": [
    "### Extraction"
   ]
  },
  {
   "cell_type": "code",
   "execution_count": null,
   "metadata": {},
   "outputs": [],
   "source": [
    "from langchain.chat_models import ChatOpenAI\n",
    "from langchain.chains import create_extraction_chain, create_extraction_chain_pydantic\n",
    "from langchain.prompts import ChatPromptTemplate"
   ]
  },
  {
   "attachments": {},
   "cell_type": "markdown",
   "metadata": {},
   "source": [
    "Fictional scenario: Extract terms from contract in the software industry to determine unfair aspects"
   ]
  },
  {
   "cell_type": "code",
   "execution_count": null,
   "metadata": {},
   "outputs": [],
   "source": [
    "contract = \"\"\"This agreement is drawn up and made effective from the first day of August, 2023, by and between XYZ Inc., a software development company (\"Vendor\") whose main business premises is located at 123 Silicon Valley, California, and MegaCorp (\"Client\"), a multinational corporation, whose principal place of business is located at 456 Wall Street, New York City, NY.\n",
    "\n",
    "MegaCorp has expressed an interest in acquiring a custom software solution to upgrade its internal human resource management system. XYZ Inc., with its superior technological prowess, has agreed to provide the required software solution in accordance with the specifications listed in Appendix A, which forms an integral part of this agreement.\n",
    "\n",
    "The Vendor shall complete the software solution, conduct necessary testing, and deliver the final product to the Client no later than December 31, 2023. The Client shall compensate the Vendor with an agreed amount of $1,000,000. The payment shall be made in ten equal installments, each installment becoming due at the end of each month from the signing of this agreement. \n",
    "\n",
    "If the Vendor fails to deliver the software solution within the stipulated time, a penalty of 5% of the total contract amount will be deducted for each week of delay. Any and all modifications requested by the Client during or after the development process shall be carried out by the Vendor free of cost.\n",
    "\n",
    "This Agreement shall be effective for a period of 24 months from the Effective Date and may only be terminated earlier by the Client. In the event of termination, the Client shall own the rights to any and all work done by the Vendor.\n",
    "\n",
    "Both parties shall adhere to strict confidentiality with respect to business information shared during the course of this project. Breach of this clause shall result in a penalty equivalent to the total contract amount.\n",
    "\n",
    "All intellectual property rights in the software developed by the Vendor will belong to the Client upon full payment of the agreed fee. Any dispute arising under this Agreement shall be settled by binding arbitration in New York City, NY, following the rules set out by the MegaCorp Arbitration Association.\n",
    "\n",
    "This agreement has been read and approved by both parties involved, indicating their acceptance of all terms and conditions.\"\"\""
   ]
  },
  {
   "cell_type": "code",
   "execution_count": null,
   "metadata": {},
   "outputs": [],
   "source": [
    "schema = {\n",
    "    \"properties\": {\n",
    "        \"parties_involved\": {\"type\": \"array\", \"items\": {\"type\": \"string\"}},\n",
    "        \"effective_date\": {\"type\": \"string\"},\n",
    "        \"duration\": {\"type\": \"integer\"},\n",
    "        \"payment_terms\": {\"type\": \"string\"},\n",
    "        \"service_description\": {\"type\": \"string\"},\n",
    "        \"termination_terms\": {\"type\": \"string\"},\n",
    "        \"confidentiality_clause\": {\"type\": \"string\"},\n",
    "        \"intellectual_property\": {\"type\": \"string\"},\n",
    "        \"dispute_resolution\": {\"type\": \"string\"},\n",
    "        \"penalty_terms\": {\"type\": \"string\"},\n",
    "        \"modifications\": {\"type\": \"string\"},\n",
    "    },\n",
    "    \"required\": [\n",
    "        \"parties_involved\",\n",
    "        \"effective_date\",\n",
    "        \"payment_terms\",\n",
    "        \"service_description\",\n",
    "    ],\n",
    "}"
   ]
  },
  {
   "cell_type": "code",
   "execution_count": null,
   "metadata": {},
   "outputs": [],
   "source": [
    "extraction_chain = create_extraction_chain(schema, llm)"
   ]
  },
  {
   "cell_type": "code",
   "execution_count": null,
   "metadata": {},
   "outputs": [],
   "source": [
    "response = extraction_chain.run(contract)"
   ]
  },
  {
   "cell_type": "code",
   "execution_count": null,
   "metadata": {},
   "outputs": [],
   "source": [
    "import pprint\n",
    "\n",
    "pp = pprint.PrettyPrinter(indent=4)\n",
    "pp.pprint(response)"
   ]
  },
  {
   "cell_type": "code",
   "execution_count": null,
   "metadata": {},
   "outputs": [],
   "source": [
    "extraction_chain.prompt.messages[0]"
   ]
  },
  {
   "cell_type": "code",
   "execution_count": null,
   "metadata": {},
   "outputs": [],
   "source": [
    "extraction_chain.llm_kwargs"
   ]
  }
 ],
 "metadata": {
  "kernelspec": {
   "display_name": "workshop-ai",
   "language": "python",
   "name": "python3"
  },
  "language_info": {
   "codemirror_mode": {
    "name": "ipython",
    "version": 3
   },
   "file_extension": ".py",
   "mimetype": "text/x-python",
   "name": "python",
   "nbconvert_exporter": "python",
   "pygments_lexer": "ipython3",
   "version": "3.11.1"
  }
 },
 "nbformat": 4,
 "nbformat_minor": 2
}
